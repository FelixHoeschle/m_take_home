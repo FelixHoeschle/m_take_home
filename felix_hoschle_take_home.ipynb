{
 "cells": [
  {
   "cell_type": "markdown",
   "metadata": {
    "id": "-Wgl_sAgdbG7"
   },
   "source": [
    "Thanks for taking your time to complete this take-home task. \n",
    "\n",
    "This is where you can show off all your decision science skills through a hands-on project. Together with the dataset, this notebook presents a series of typical problems we face in our job. We expect you to complete the notebook with insightful analysis, elegant code and clear documentation of your findings (perfectly OK to embed within this notebook, just make sure using a distinct color). Please also feel free to keep in the final notebook any code+result where you believe there is value, even if it's not directly addressing the questions below.\n",
    "\n",
    "We have designed this test with the hope to only take you about 3 hours. We know it’s still quite a commitment of your time and we really appreciate it. That being said, this test is not timed so feel free to spend more time if needed. We’d love to hear your feedback if it actually cost you longer than we intended. It is easy for us to underestimate the required efforts when we know the answers already! Please also tell us if you haven’t had enough fun 😂\n",
    "\n",
    "\n",
    "## Hints\n",
    "\n",
    "*   We encourage our decision scientists to use open-source solutions as much as possible instead of re-inventing the wheels. So please feel free to Google for a solution before writing any complicated code. \n",
    "*   If you are running short of time but have lots of extra great ideas you'd like to explore, feel free to write down your thoughts in words or pseudo-code instead of code.\n",
    "\n",
    "## Context\n",
    "\n",
    "The project we have here is to validate and monitor two credit risk decision models for personal loan underwriting decisions. The information we collected at the underwriting stage of successful applications (i.e. approved and disbursed) were used as the input features of these two models. The two models were trained to predict whether the customers will repay all scheduled payment in the following X months. \n",
    "\n",
    "We can split our data into the following three parts:\n",
    "1.   the **development sample**: all loans applications before 1st August 2019\n",
    "2.   the **out-of-time monitoring sample**: all loans applications between 1st August 2019 and 1st Jan 2020\n",
    "3.   the **post-deployment monitoring sample**: all loans applications since 1st Jan 2020\n"
   ]
  },
  {
   "cell_type": "markdown",
   "metadata": {
    "id": "Zh-P4EKIalTG"
   },
   "source": [
    "# Part 1. Data processing\n",
    "\n",
    "Here we have two synthetic datasets of loan customers. \n",
    "\n",
    "\n",
    "The file ***monthly_outcome.csv*** contains the repayment *status* at each scheduled payment *date*. The numeric values in column *status* represent how many monthly repayments they were missing. i.e. 0 means they were up to date without any arrear, 3 means they were at that time missing three repayments. Once a customer reaches a status of missing 4 payments, we marked them as 'D' which means it has defaulted. For simplicity let's assume it as a terminal status and all the following records will be 'D' as well. \n",
    "\n",
    "The file ***application.csv*** contains\n",
    "1.   a few variables about the customer we acquired during their loan applications\n",
    "2.   a binary variable (*is_bad_12m*) of their repayment performance 12 months after disbursal \n",
    "\n",
    "**Target definition**: the binary target variable *is_bad_12m* was created by looking at the arrear status of the customers across the 12 dates where the repayment was scheduled. If at any point they had 3 or more repayments missing, this variable would be set to 1, otherwise 0. \n",
    "\n",
    "Each loan is represented by an *unique_id* in these two files.\n",
    "\n"
   ]
  },
  {
   "cell_type": "markdown",
   "metadata": {
    "id": "1vT7729qjNAT"
   },
   "source": [
    "## Task 1.1: data cleaning\n",
    "\n",
    "Although we are proud of our data infrastructure, it's always a good practice to sense check and clean up a bit. We have left you a few surprises here. Have fun!\n",
    "\n"
   ]
  },
  {
   "cell_type": "markdown",
   "metadata": {
    "id": "zg4QMTo2czc4"
   },
   "source": [
    "## Task 1.2: another target\n",
    "In order to understand the performance of a model before it's too late, we also want to monitor the repayment behaviours after the first few repayments. \n",
    "\n",
    "Could you please create another \"early-risk\" target *is_bad_3m* which represents whether the customers ever had **2 or more** repayments in arrear at any point of their first three scheduled ones?\n",
    "\n"
   ]
  },
  {
   "cell_type": "markdown",
   "metadata": {
    "id": "Dd1jByeiY7bP"
   },
   "source": [
    "# Part 2. Model validation\n",
    "\n",
    "In this part let's assume we are still at the model development stage and look at the development sample only (see definition at the start). We will skip the model training part here (which is too much fun to finish in 3 hours), and assume that we already trained two candidate models. These are of course probabilistic classification model, which you can find their scores in ***application.csv*** as columns *model_1* and *model_2*. \n",
    "\n",
    "We need to compare their performance and decide which one to use in production. The winner model, once deployed, will be used for decisions of\n",
    "\n",
    "*   Loan approval: the score must be above certain threshold (which can be adjusted during operation) for the application to be approved. \n",
    "*   Loss estimate: for each approved loan, we use the model output to predict the probability of default. \n",
    "*   Pricing: based on the loss estimate, we decide the interest rate to be charged in order to cover potential losses. \n",
    "\n",
    "\n",
    "\n",
    "\n",
    "\n"
   ]
  },
  {
   "cell_type": "markdown",
   "metadata": {
    "id": "YjBbC6y1Ca8c"
   },
   "source": [
    "\n",
    "\n",
    "## Task 2.1: classification power\n",
    "\n",
    "A common metric used in the credit risk modelling world is the Gini coefficient, which can be linearly mapped to ROCAUC if that's a term you are more familiar with. Could you please compare the Gini's between the two models as a first step? \n",
    "\n",
    "\n"
   ]
  },
  {
   "cell_type": "markdown",
   "metadata": {
    "id": "SSTL7anX0sv8"
   },
   "source": [
    "An extended question: assuming that classification power is all we care about, what are the other reasons to not pick the model with highest Gini? It's enough to just write down your thoughts. \n"
   ]
  },
  {
   "cell_type": "markdown",
   "metadata": {
    "id": "4gDBOJwwCdiS"
   },
   "source": [
    "## Task 2.2: classification power in segments\n",
    "\n",
    "As the population of future business might have different distributions from the development sample, we would ideally want the chosen model to be performant in all segments. For simplicity let's stick with univariate segments only.\n",
    "\n",
    "Could you please compare the Gini's between the two models in the segments of all the variables? Feel free to define the segments as you see appropriate. \n"
   ]
  },
  {
   "cell_type": "markdown",
   "metadata": {
    "id": "AgdjGEh1Cfno"
   },
   "source": [
    "\n",
    "## Task 2.3: accuracy \n",
    "As we want to use our model for loss estimates and pricing of each customer, could you please check whether the scores (as probabilistic predictions) are accurate with respect to the actual \"bad rates\" (i.e. the fraction of *is_bad_12m*=1 among customers of similar scores)"
   ]
  },
  {
   "cell_type": "markdown",
   "metadata": {
    "id": "wrTIJak3DCqW"
   },
   "source": [
    "## Task 2.4: calibration\n",
    "\n",
    "We also want to monitor the early risk indicator *is_bad_3m* in case something really bad happens (e.g. a pandemic). For that we need to calibrate our scores to the probability of such short-term outcome. Could you please create the calibrated scores for the two models and validate them? (Hint: if this is not a topic you are familiar with, scikit-learn has some handy utilities)"
   ]
  },
  {
   "cell_type": "markdown",
   "metadata": {
    "id": "uz8lFvDwECZF"
   },
   "source": [
    "# Part 3. Model monitoring\n",
    "\n",
    "The training and validation of a model is just part of the story. A large part of our work is to understand how our models perform in real life deicisioning and how we adapt to the changing market. In this part we will look into the monitoring sample (see definition at the start).\n",
    "\n",
    "Now let's assume that we have choosen *model_1* and deployed it to production since 1st Jan 2020. On that day, our decision engine started to use that model, and since then only approved applications with *model_1*<0.05. \n"
   ]
  },
  {
   "cell_type": "markdown",
   "metadata": {
    "id": "5Mh84z4QEDAu"
   },
   "source": [
    "## Task 3.1: model performance\n",
    "\n",
    "How did the model perform in this monitoring sample, before & after its deployment into production? How does that compare to the expectation from the development sample? "
   ]
  },
  {
   "cell_type": "markdown",
   "metadata": {
    "id": "cuS5S6Q__l6-"
   },
   "source": [
    "## Task 3.2: why the changes?\n",
    "\n",
    "If you observe a difference, what do you think can be the reason(s)? How are you going to verify your hypothesis?"
   ]
  },
  {
   "cell_type": "markdown",
   "metadata": {
    "id": "QEiF96SWEDDE"
   },
   "source": [
    "## Task 3.3: new variable\n",
    "\n",
    "You might have noticed that a new variable ***stress_score*** has become available since late 2019. Can you figure out whether there is additional classification power from this variable over our models? \n",
    "\n",
    "If so, how would you incorporate it into our decision model?\n"
   ]
  },
  {
   "cell_type": "code",
   "execution_count": 1,
   "metadata": {},
   "outputs": [],
   "source": [
    "import pandas as pd\n",
    "import numpy as np\n",
    "import matplotlib.pyplot as plt\n"
   ]
  },
  {
   "cell_type": "code",
   "execution_count": 63,
   "metadata": {},
   "outputs": [],
   "source": [
    "mo_df = pd.read_csv(\"./data/monthly_outcome.csv\")\n",
    "ap_df = pd.read_csv(\"./data/application.csv\")"
   ]
  },
  {
   "cell_type": "code",
   "execution_count": 10,
   "metadata": {},
   "outputs": [
    {
     "name": "stdout",
     "output_type": "stream",
     "text": [
      "Data types for mo_df:\n",
      "unique_id     int64\n",
      "date         object\n",
      "status       object\n",
      "dtype: object\n",
      "\n",
      "Data types for ap_df:\n",
      "unique_id                                    int64\n",
      "stress_score                               float64\n",
      "is_bad_12m                                 float64\n",
      "model_1                                    float64\n",
      "model_2                                    float64\n",
      "origination_date                            object\n",
      "loan_term                                  float64\n",
      "loan_amount                                float64\n",
      "age_oldest_account                         float64\n",
      "total_value_of_mortgage                    float64\n",
      "current_utilisation                        float64\n",
      "months_since_2_payments_missed             float64\n",
      "number_of_credit_searches_last_3_months    float64\n",
      "dtype: object\n"
     ]
    }
   ],
   "source": [
    "# dtypes for monthly_outcome.csv and application.csv\n",
    "print(\"Data types for mo_df:\")\n",
    "print(mo_df.dtypes)\n",
    "\n",
    "print(\"\\nData types for ap_df:\")\n",
    "print(ap_df.dtypes)\n"
   ]
  },
  {
   "cell_type": "code",
   "execution_count": 41,
   "metadata": {},
   "outputs": [
    {
     "name": "stdout",
     "output_type": "stream",
     "text": [
      "---- monthly_outcome.csv ----\n",
      "Nulls or NAs per column in monthly_outcome.csv:\n",
      " index        0\n",
      "unique_id    0\n",
      "date         0\n",
      "status       0\n",
      "dtype: int64\n",
      "---- application.csv ----\n",
      "Nulls or NAs per column in application.csv:\n",
      " unique_id                                      0\n",
      "stress_score                               96060\n",
      "is_bad_12m                                  9124\n",
      "model_1                                        0\n",
      "model_2                                        0\n",
      "origination_date                               0\n",
      "loan_term                                      0\n",
      "loan_amount                                    0\n",
      "age_oldest_account                             0\n",
      "total_value_of_mortgage                        0\n",
      "current_utilisation                            0\n",
      "months_since_2_payments_missed                 0\n",
      "number_of_credit_searches_last_3_months        0\n",
      "dtype: int64\n"
     ]
    }
   ],
   "source": [
    "# No NULLs or NAs in monthly_outcome.csv and application.csv\n",
    "print('---- monthly_outcome.csv ----')\n",
    "print(f'Nulls or NAs per column in monthly_outcome.csv:\\n',mo_df.isnull().sum() + mo_df.isna().sum())\n",
    "print('---- application.csv ----')\n",
    "print(f'Nulls or NAs per column in application.csv:\\n',ap_df.isnull().sum() + ap_df.isna().sum())\n"
   ]
  },
  {
   "cell_type": "code",
   "execution_count": 31,
   "metadata": {},
   "outputs": [
    {
     "data": {
      "text/plain": [
       "Text(0.5, 0, '')"
      ]
     },
     "execution_count": 31,
     "metadata": {},
     "output_type": "execute_result"
    },
    {
     "data": {
      "image/png": "[encoded data removed]",
      "text/plain": [
       "<Figure size 864x144 with 1 Axes>"
      ]
     },
     "metadata": {
      "needs_background": "light"
     },
     "output_type": "display_data"
    }
   ],
   "source": [
    "# convert date columns to datetime and plot\n",
    "mo_df[\"date\"] = pd.to_datetime(mo_df[\"date\"])\n",
    "ap_df[\"origination_date\"] = pd.to_datetime(ap_df[\"origination_date\"])\n",
    "\n",
    "plt.figure(figsize=(12,2))\n",
    "\n",
    "mo_df.groupby(\"date\").size().plot()\n",
    "ap_df.groupby(\"origination_date\").size().plot()\n",
    "\n",
    "plt.legend([\"payback events\", \"origination date\"])\n",
    "plt.xlabel(\"\")"
   ]
  },
  {
   "cell_type": "code",
   "execution_count": 64,
   "metadata": {},
   "outputs": [
    {
     "name": "stdout",
     "output_type": "stream",
     "text": [
      "status\n",
      "0      324703\n",
      "0.0    470201\n",
      "1       10592\n",
      "1.0     15524\n",
      "2        3141\n",
      "2.0      5259\n",
      "3        1190\n",
      "3.0      1296\n",
      "D       16074\n",
      "dtype: int64\n",
      "Fixed: status\n",
      "0    794904\n",
      "1     26116\n",
      "2      8400\n",
      "3      2486\n",
      "D     16074\n",
      "dtype: int64\n"
     ]
    }
   ],
   "source": [
    "## Explore status column\n",
    "# Unique values in status column -> Integers and floats are mixed, codyfing the same status in different ways (e.g. 1 and 1.0)\n",
    "print(mo_df.groupby('status').size())\n",
    "# keep only first element of str in status column\n",
    "mo_df['status'] = mo_df['status'].str[0]\n",
    "print('Fixed:', mo_df.groupby('status').size())\n",
    "\n",
    "# Turn 'D' into '4' and cast column to int\n",
    "mo_df['status'] = mo_df['status'].replace('D', '4').astype(int)\n",
    "\n"
   ]
  },
  {
   "cell_type": "code",
   "execution_count": null,
   "metadata": {},
   "outputs": [],
   "source": [
    "## Explore unique_id column\n",
    "\n",
    "# Exactly 12 payback events per unique_id\n",
    "print('All unique_ids have 12 payback events: ', mo_df.groupby('unique_id').size().value_counts())\n",
    "\n",
    "# Number unique_id in monthly_outcome.csv and application.csv, and do they match?\n",
    "# Yes, there is the same 70K unique_id in both files\n",
    "print(\"Number of unique_id in mo_df:\", mo_df['unique_id'].nunique())\n",
    "print(\"Number of unique_id in ap_df:\", ap_df['unique_id'].nunique())\n",
    "print(\"Number of unique_id in both:\", len(set(mo_df['unique_id']).intersection(set(ap_df['unique_id']))))"
   ]
  },
  {
   "cell_type": "code",
   "execution_count": 50,
   "metadata": {},
   "outputs": [
    {
     "name": "stdout",
     "output_type": "stream",
     "text": [
      "Duplicates in monthly_outcome.csv: 0\n",
      "Duplicates in application.csv: 5653\n",
      "Duplicates in application.csv: 0\n"
     ]
    }
   ],
   "source": [
    "## Duplicate check\n",
    "\n",
    "# 1. monthly_outcome.csv: Unique identifier should by unique_id and date -> No duplicates\n",
    "print(f'Duplicates in monthly_outcome.csv:', mo_df.duplicated(subset=['unique_id','date']).sum())\n",
    "\n",
    "# 2. application.csv: Unique identifier should by unique_id -> 5K duplicates (Ou)\n",
    "print(f'Duplicates in application.csv:',ap_df.duplicated(subset=['unique_id']).sum())\n",
    "\n",
    "# Have a look at the duplicated unique_ids -> They appear to be simple copies of the same data\n",
    "ap_df[ap_df.duplicated(subset=['unique_id'],keep=False)].sort_values('unique_id')\n",
    "# Drop duplicates and rerun the check to confirm they are all gone\n",
    "ap_df = ap_df.drop_duplicates()\n",
    "print(f'Duplicates in application.csv after drop:',ap_df.duplicated(subset=['unique_id']).sum())"
   ]
  },
  {
   "cell_type": "code",
   "execution_count": 52,
   "metadata": {},
   "outputs": [
    {
     "name": "stdout",
     "output_type": "stream",
     "text": [
      "Nulls in origination_date after join: 0\n"
     ]
    }
   ],
   "source": [
    "# join both dataframes by unique_id and confirm that every unique_id from mo_df has exactly one row in ap_df\n",
    "df_joined = mo_df.merge(ap_df, on='unique_id', how='left', validate='many_to_one')\n",
    "# We were able to join an originate_date for each user, showing that we have application data for each user\n",
    "print(f'Nulls in origination_date after join:', df_joined['origination_date'].isnull().sum())"
   ]
  },
  {
   "cell_type": "code",
   "execution_count": null,
   "metadata": {},
   "outputs": [],
   "source": []
  },
  {
   "cell_type": "code",
   "execution_count": 42,
   "metadata": {},
   "outputs": [
    {
     "ename": "MergeError",
     "evalue": "Merge keys are not unique in right dataset; not a many-to-one merge",
     "output_type": "error",
     "traceback": [
      "\u001b[1;31m---------------------------------------------------------------------------\u001b[0m",
      "\u001b[1;31mMergeError\u001b[0m                                Traceback (most recent call last)",
      "\u001b[1;32m<ipython-input-42-677b55e8e546>\u001b[0m in \u001b[0;36m<module>\u001b[1;34m\u001b[0m\n\u001b[0;32m      1\u001b[0m \u001b[1;31m# join both dataframes by unique_id and confirm that every unique_id from mo_df has exactly one row in ap_df\u001b[0m\u001b[1;33m\u001b[0m\u001b[1;33m\u001b[0m\u001b[1;33m\u001b[0m\u001b[0m\n\u001b[1;32m----> 2\u001b[1;33m \u001b[0mdf_joined\u001b[0m \u001b[1;33m=\u001b[0m \u001b[0mmo_df\u001b[0m\u001b[1;33m.\u001b[0m\u001b[0mmerge\u001b[0m\u001b[1;33m(\u001b[0m\u001b[0map_df\u001b[0m\u001b[1;33m,\u001b[0m \u001b[0mon\u001b[0m\u001b[1;33m=\u001b[0m\u001b[1;34m'unique_id'\u001b[0m\u001b[1;33m,\u001b[0m \u001b[0mhow\u001b[0m\u001b[1;33m=\u001b[0m\u001b[1;34m'left'\u001b[0m\u001b[1;33m,\u001b[0m \u001b[0mvalidate\u001b[0m\u001b[1;33m=\u001b[0m\u001b[1;34m'many_to_one'\u001b[0m\u001b[1;33m)\u001b[0m\u001b[1;33m\u001b[0m\u001b[1;33m\u001b[0m\u001b[0m\n\u001b[0m\u001b[0;32m      3\u001b[0m \u001b[1;33m\u001b[0m\u001b[0m\n",
      "\u001b[1;32mc:\\Users\\fhoes\\AppData\\Local\\Programs\\Python\\Python39\\lib\\site-packages\\pandas\\core\\frame.py\u001b[0m in \u001b[0;36mmerge\u001b[1;34m(self, right, how, on, left_on, right_on, left_index, right_index, sort, suffixes, copy, indicator, validate)\u001b[0m\n\u001b[0;32m  10830\u001b[0m         \u001b[1;32mfrom\u001b[0m \u001b[0mpandas\u001b[0m\u001b[1;33m.\u001b[0m\u001b[0mcore\u001b[0m\u001b[1;33m.\u001b[0m\u001b[0mreshape\u001b[0m\u001b[1;33m.\u001b[0m\u001b[0mmerge\u001b[0m \u001b[1;32mimport\u001b[0m \u001b[0mmerge\u001b[0m\u001b[1;33m\u001b[0m\u001b[1;33m\u001b[0m\u001b[0m\n\u001b[0;32m  10831\u001b[0m \u001b[1;33m\u001b[0m\u001b[0m\n\u001b[1;32m> 10832\u001b[1;33m         return merge(\n\u001b[0m\u001b[0;32m  10833\u001b[0m             \u001b[0mself\u001b[0m\u001b[1;33m,\u001b[0m\u001b[1;33m\u001b[0m\u001b[1;33m\u001b[0m\u001b[0m\n\u001b[0;32m  10834\u001b[0m             \u001b[0mright\u001b[0m\u001b[1;33m,\u001b[0m\u001b[1;33m\u001b[0m\u001b[1;33m\u001b[0m\u001b[0m\n",
      "\u001b[1;32mc:\\Users\\fhoes\\AppData\\Local\\Programs\\Python\\Python39\\lib\\site-packages\\pandas\\core\\reshape\\merge.py\u001b[0m in \u001b[0;36mmerge\u001b[1;34m(left, right, how, on, left_on, right_on, left_index, right_index, sort, suffixes, copy, indicator, validate)\u001b[0m\n\u001b[0;32m    168\u001b[0m         )\n\u001b[0;32m    169\u001b[0m     \u001b[1;32melse\u001b[0m\u001b[1;33m:\u001b[0m\u001b[1;33m\u001b[0m\u001b[1;33m\u001b[0m\u001b[0m\n\u001b[1;32m--> 170\u001b[1;33m         op = _MergeOperation(\n\u001b[0m\u001b[0;32m    171\u001b[0m             \u001b[0mleft_df\u001b[0m\u001b[1;33m,\u001b[0m\u001b[1;33m\u001b[0m\u001b[1;33m\u001b[0m\u001b[0m\n\u001b[0;32m    172\u001b[0m             \u001b[0mright_df\u001b[0m\u001b[1;33m,\u001b[0m\u001b[1;33m\u001b[0m\u001b[1;33m\u001b[0m\u001b[0m\n",
      "\u001b[1;32mc:\\Users\\fhoes\\AppData\\Local\\Programs\\Python\\Python39\\lib\\site-packages\\pandas\\core\\reshape\\merge.py\u001b[0m in \u001b[0;36m__init__\u001b[1;34m(self, left, right, how, on, left_on, right_on, left_index, right_index, sort, suffixes, indicator, validate)\u001b[0m\n\u001b[0;32m    811\u001b[0m         \u001b[1;31m# are in fact unique.\u001b[0m\u001b[1;33m\u001b[0m\u001b[1;33m\u001b[0m\u001b[1;33m\u001b[0m\u001b[0m\n\u001b[0;32m    812\u001b[0m         \u001b[1;32mif\u001b[0m \u001b[0mvalidate\u001b[0m \u001b[1;32mis\u001b[0m \u001b[1;32mnot\u001b[0m \u001b[1;32mNone\u001b[0m\u001b[1;33m:\u001b[0m\u001b[1;33m\u001b[0m\u001b[1;33m\u001b[0m\u001b[0m\n\u001b[1;32m--> 813\u001b[1;33m             \u001b[0mself\u001b[0m\u001b[1;33m.\u001b[0m\u001b[0m_validate_validate_kwd\u001b[0m\u001b[1;33m(\u001b[0m\u001b[0mvalidate\u001b[0m\u001b[1;33m)\u001b[0m\u001b[1;33m\u001b[0m\u001b[1;33m\u001b[0m\u001b[0m\n\u001b[0m\u001b[0;32m    814\u001b[0m \u001b[1;33m\u001b[0m\u001b[0m\n\u001b[0;32m    815\u001b[0m     def _maybe_require_matching_dtypes(\n",
      "\u001b[1;32mc:\\Users\\fhoes\\AppData\\Local\\Programs\\Python\\Python39\\lib\\site-packages\\pandas\\core\\reshape\\merge.py\u001b[0m in \u001b[0;36m_validate_validate_kwd\u001b[1;34m(self, validate)\u001b[0m\n\u001b[0;32m   1667\u001b[0m         \u001b[1;32melif\u001b[0m \u001b[0mvalidate\u001b[0m \u001b[1;32min\u001b[0m \u001b[1;33m[\u001b[0m\u001b[1;34m\"many_to_one\"\u001b[0m\u001b[1;33m,\u001b[0m \u001b[1;34m\"m:1\"\u001b[0m\u001b[1;33m]\u001b[0m\u001b[1;33m:\u001b[0m\u001b[1;33m\u001b[0m\u001b[1;33m\u001b[0m\u001b[0m\n\u001b[0;32m   1668\u001b[0m             \u001b[1;32mif\u001b[0m \u001b[1;32mnot\u001b[0m \u001b[0mright_unique\u001b[0m\u001b[1;33m:\u001b[0m\u001b[1;33m\u001b[0m\u001b[1;33m\u001b[0m\u001b[0m\n\u001b[1;32m-> 1669\u001b[1;33m                 raise MergeError(\n\u001b[0m\u001b[0;32m   1670\u001b[0m                     \u001b[1;34m\"Merge keys are not unique in right dataset; \"\u001b[0m\u001b[1;33m\u001b[0m\u001b[1;33m\u001b[0m\u001b[0m\n\u001b[0;32m   1671\u001b[0m                     \u001b[1;34m\"not a many-to-one merge\"\u001b[0m\u001b[1;33m\u001b[0m\u001b[1;33m\u001b[0m\u001b[0m\n",
      "\u001b[1;31mMergeError\u001b[0m: Merge keys are not unique in right dataset; not a many-to-one merge"
     ]
    }
   ],
   "source": [
    "\n"
   ]
  },
  {
   "cell_type": "code",
   "execution_count": 40,
   "metadata": {},
   "outputs": [
    {
     "data": {
      "text/plain": [
       "<Axes: >"
      ]
     },
     "execution_count": 40,
     "metadata": {},
     "output_type": "execute_result"
    },
    {
     "data": {
      "image/png": "[encoded data removed]",
      "text/plain": [
       "<Figure size 432x288 with 1 Axes>"
      ]
     },
     "metadata": {
      "needs_background": "light"
     },
     "output_type": "display_data"
    }
   ],
   "source": []
  },
  {
   "cell_type": "code",
   "execution_count": null,
   "metadata": {},
   "outputs": [],
   "source": []
  }
 ],
 "metadata": {
  "colab": {
   "collapsed_sections": [],
   "name": "Monzo_Take_Home_Test_Decision_Scientist.ipynb",
   "provenance": [],
   "toc_visible": true
  },
  "kernelspec": {
   "display_name": "Python 3",
   "language": "python",
   "name": "python3"
  },
  "language_info": {
   "codemirror_mode": {
    "name": "ipython",
    "version": 3
   },
   "file_extension": ".py",
   "mimetype": "text/x-python",
   "name": "python",
   "nbconvert_exporter": "python",
   "pygments_lexer": "ipython3",
   "version": "3.9.1"
  },
  "toc": {
   "base_numbering": 1,
   "nav_menu": {},
   "number_sections": true,
   "sideBar": true,
   "skip_h1_title": false,
   "title_cell": "Table of Contents",
   "title_sidebar": "Contents",
   "toc_cell": false,
   "toc_position": {},
   "toc_section_display": true,
   "toc_window_display": false
  },
  "vscode": {
   "interpreter": {
    "hash": "4d012fa031ee1fd6c2292b462386f6a2706e04cb8b2cf599194f2d2e43de40ad"
   }
  }
 },
 "nbformat": 4,
 "nbformat_minor": 1
}
