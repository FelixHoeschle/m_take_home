{
 "cells": [
  {
   "cell_type": "code",
   "execution_count": 158,
   "metadata": {},
   "outputs": [],
   "source": [
    "import pandas as pd\n",
    "import numpy as np\n",
    "import matplotlib.pyplot as plt\n",
    "from helper_functions import  add_xmonth_default_flag\n",
    "import warnings\n",
    "plt.style.use('ggplot')"
   ]
  },
  {
   "cell_type": "markdown",
   "metadata": {
    "id": "Zh-P4EKIalTG"
   },
   "source": [
    "# Part 1. Data processing"
   ]
  },
  {
   "cell_type": "markdown",
   "metadata": {
    "id": "1vT7729qjNAT"
   },
   "source": [
    "## Task 1.1: data cleaning"
   ]
  },
  {
   "cell_type": "markdown",
   "metadata": {},
   "source": [
    "### Summary ###\n",
    "**Problems found**:\n",
    "<br>\n",
    "1. monthly_outcome.csv<br>\n",
    "    1.a Status: Mixing floats and ints -> Converted to int, replace 'D' with 4<br>\n",
    "    1.b Status: Status corrupted for some users. Status decreases or increases by more than 1 -> Drop unique_ids (13K)<br>\n",
    "    1.b Date: Convert to datetime<br>\n",
    "    <br>\n",
    "2. application.csv<br>\n",
    "    2.a Duplicated rows -> Drop (5K)<br>\n",
    "    2.b Implausible negative numbers for some numerical features (e.g. -9999999.0) -> Set values to NULL as rows otherwise useful<br>\n",
    "        (impacted features: age_oldest_account, total_value_of_mortgage, current_utilisation, months_since_2_payments_missed, number_of_credit_searches_last_3_months)<br>\n",
    "    3.c Missing values for is_bad_12m -> Calculated correct values and replaced nulls.\n",
    "<br>\n",
    "\n",
    "**Complete set of checks (Code in 'data_cleaning.ipynb' for easier reading)**:<br>\n",
    "1. Datatypes<br>\n",
    "2. Nulls<br>\n",
    "3. Status column:<br>\n",
    "    3.a Unique values<br>\n",
    "    3.b 12 payback events for each customer?<br>\n",
    "    3.c Always 1 month between payback events?<br>\n",
    "    3.d Status always increases by 0 or 1?<br>\n",
    "4. is_12m_bad column:<br>\n",
    "    4.a Replace missing values by calculating true value<br>\n",
    "5. Dates: <br>\n",
    "    5.a Cast to datetime <br>\n",
    "    5.b Confirm data size over time (development, monitor, post-deployment)<br>\n",
    "6. Unique_id col:<br>\n",
    "    6.a Remove duplicates in application.csv<br>\n",
    "    6.b Confirm that unique_ids between 2 datasets match 1 to 1<br>\n",
    "7. Numerical features<br>\n",
    "    7.a Plot distributions (after replacing implausible values)<br>"
   ]
  },
  {
   "cell_type": "code",
   "execution_count": 159,
   "metadata": {},
   "outputs": [],
   "source": [
    "mo_df = pd.read_csv(\"./data/monthly_outcome.csv\")\n",
    "ap_df = pd.read_csv(\"./data/application.csv\")"
   ]
  },
  {
   "cell_type": "markdown",
   "metadata": {},
   "source": [
    "### 1. Data Types ###\n",
    "\n",
    "**Results:**\n",
    "1. status: object -> Suggests mixed data types, explore\n",
    "2. date, origination_date: object -> Cast to datetime"
   ]
  },
  {
   "cell_type": "code",
   "execution_count": 160,
   "metadata": {},
   "outputs": [
    {
     "name": "stdout",
     "output_type": "stream",
     "text": [
      "Data types for mo_df:\n",
      "unique_id     int64\n",
      "date         object\n",
      "status       object\n",
      "dtype: object\n",
      "\n",
      "Data types for ap_df:\n",
      "unique_id                                    int64\n",
      "stress_score                               float64\n",
      "is_bad_12m                                 float64\n",
      "model_1                                    float64\n",
      "model_2                                    float64\n",
      "origination_date                            object\n",
      "loan_term                                  float64\n",
      "loan_amount                                float64\n",
      "age_oldest_account                         float64\n",
      "total_value_of_mortgage                    float64\n",
      "current_utilisation                        float64\n",
      "months_since_2_payments_missed             float64\n",
      "number_of_credit_searches_last_3_months    float64\n",
      "dtype: object\n"
     ]
    }
   ],
   "source": [
    "\n",
    "print(\"Data types for mo_df:\")\n",
    "print(mo_df.dtypes)\n",
    "\n",
    "print(\"\\nData types for ap_df:\")\n",
    "print(ap_df.dtypes)\n"
   ]
  },
  {
   "cell_type": "markdown",
   "metadata": {
    "vscode": {
     "languageId": "shellscript"
    }
   },
   "source": [
    "### 2. NULLS ###\n",
    "**Results**\n",
    "1. 9K for is_bad_12m -> Unexpected -> Investigate\n",
    "2. 100K for stress_scored -> Expected as variable only available later (Won't dig deeper)"
   ]
  },
  {
   "cell_type": "code",
   "execution_count": 161,
   "metadata": {},
   "outputs": [
    {
     "name": "stdout",
     "output_type": "stream",
     "text": [
      "---- monthly_outcome.csv ----\n",
      "Nulls or NAs per column in monthly_outcome.csv:\n",
      " unique_id    0\n",
      "date         0\n",
      "status       0\n",
      "dtype: int64\n",
      "---- application.csv ----\n",
      "Nulls or NAs per column in application.csv:\n",
      " unique_id                                      0\n",
      "stress_score                               48030\n",
      "is_bad_12m                                  4562\n",
      "model_1                                        0\n",
      "model_2                                        0\n",
      "origination_date                               0\n",
      "loan_term                                      0\n",
      "loan_amount                                    0\n",
      "age_oldest_account                             0\n",
      "total_value_of_mortgage                        0\n",
      "current_utilisation                            0\n",
      "months_since_2_payments_missed                 0\n",
      "number_of_credit_searches_last_3_months        0\n",
      "dtype: int64\n"
     ]
    }
   ],
   "source": [
    "print('---- monthly_outcome.csv ----')\n",
    "print(f'Nulls or NAs per column in monthly_outcome.csv:\\n',mo_df.isnull().sum())\n",
    "print('---- application.csv ----')\n",
    "print(f'Nulls or NAs per column in application.csv:\\n',ap_df.isnull().sum())\n"
   ]
  },
  {
   "cell_type": "markdown",
   "metadata": {},
   "source": [
    "## 3. Status column ##"
   ]
  },
  {
   "cell_type": "markdown",
   "metadata": {},
   "source": [
    "**3.a Unique values**<br>\n",
    "Results: Integers and floats are mixed, codyfing the same status in different ways (e.g. 1 and 1.0) -> Set to [1,2,3,4]"
   ]
  },
  {
   "cell_type": "code",
   "execution_count": 162,
   "metadata": {},
   "outputs": [
    {
     "name": "stdout",
     "output_type": "stream",
     "text": [
      "status\n",
      "0      324703\n",
      "0.0    470201\n",
      "1       10592\n",
      "1.0     15524\n",
      "2        3141\n",
      "2.0      5259\n",
      "3        1190\n",
      "3.0      1296\n",
      "D       16074\n",
      "dtype: int64\n"
     ]
    }
   ],
   "source": [
    "print(mo_df.groupby('status').size())\n",
    "# Change D to 4 for easier handling\n",
    "mo_df['status'] = mo_df['status'].replace('D', '4')\n",
    "# keep only first element of str in status column\n",
    "mo_df['status'] = mo_df['status'].str[0].astype(int)\n",
    "#print('Fixed:', mo_df.groupby('status').size())"
   ]
  },
  {
   "cell_type": "markdown",
   "metadata": {},
   "source": [
    "**3.b Exactly 12 payback events per unique_id?**<br>\n",
    "Results: Yes"
   ]
  },
  {
   "cell_type": "code",
   "execution_count": 163,
   "metadata": {},
   "outputs": [
    {
     "data": {
      "text/plain": [
       "12    70665\n",
       "Name: count, dtype: int64"
      ]
     },
     "execution_count": 163,
     "metadata": {},
     "output_type": "execute_result"
    }
   ],
   "source": [
    "mo_df.groupby('unique_id').size().value_counts()"
   ]
  },
  {
   "cell_type": "markdown",
   "metadata": {},
   "source": [
    "**3.c Always exactly 1 month between payback events?**<br>\n",
    "Results: Yes, always 30 or 31 days between payback events"
   ]
  },
  {
   "cell_type": "code",
   "execution_count": 164,
   "metadata": {},
   "outputs": [
    {
     "data": {
      "text/plain": [
       "(array([0, 1]), [Text(0, 0, '30.0'), Text(1, 0, '31.0')])"
      ]
     },
     "execution_count": 164,
     "metadata": {},
     "output_type": "execute_result"
    },
    {
     "data": {
      "image/png": "[encoded data removed]",
      "text/plain": [
       "<Figure size 288x144 with 1 Axes>"
      ]
     },
     "metadata": {},
     "output_type": "display_data"
    }
   ],
   "source": [
    "mo_df['date'] = pd.to_datetime(mo_df['date'])\n",
    "mo_df = mo_df.sort_values(by=['unique_id', 'date'], ascending=[True, True]).reset_index(drop=True)\n",
    "mo_df['prev_date'] = mo_df.groupby('unique_id')['date'].shift(1)\n",
    "mo_df['days_since_prev_payback_event'] = (mo_df['date'] - mo_df['prev_date']).dt.days\n",
    "\n",
    "plt.figure(figsize=(4,2))\n",
    "mo_df['days_since_prev_payback_event'].value_counts().sort_index().plot(kind='bar')\n",
    "plt.xticks(rotation=0)"
   ]
  },
  {
   "cell_type": "markdown",
   "metadata": {},
   "source": [
    "**3.d Is status always increasing by 1 or 0?**<br>\n",
    "Results: About 13K users have jumping status column. As this should be impossible, we remove the unique_ids from both data sets."
   ]
  },
  {
   "cell_type": "code",
   "execution_count": 165,
   "metadata": {},
   "outputs": [
    {
     "name": "stdout",
     "output_type": "stream",
     "text": [
      "status_delta_previous_period\n",
      "-3.0       49\n",
      "-2.0     3317\n",
      "-1.0    14314\n",
      " 2.0       22\n",
      " 3.0       29\n",
      " 4.0      182\n",
      "dtype: int64\n",
      "Removed number of unique_ids:  12956\n"
     ]
    }
   ],
   "source": [
    "# get status from previous period for each unique_id\n",
    "mo_df = mo_df.sort_values(by=['unique_id', 'date'], ascending=[True, True]).reset_index(drop=True)\n",
    "mo_df['prev_status'] = mo_df.groupby('unique_id')['status'].shift(1)\n",
    "mo_df['status_delta_previous_period'] = mo_df['status'] - mo_df['prev_status'] \n",
    "\n",
    "# Count how often status_delta_previous_period is not 0 or 1 or NaN\n",
    "print(mo_df[~mo_df['status_delta_previous_period'].isin([0, 1, np.nan])].groupby('status_delta_previous_period').size())\n",
    "\n",
    "# Explored examples where the status changes by -3, -2, -1, 2, 3, 4. Seems like corruption in the data.\n",
    "example_user = list(mo_df.query('status_delta_previous_period==-3')['unique_id'])[0]\n",
    "mo_df.query(f'unique_id == {example_user}')\n",
    "\n",
    "# Identify users with corrupted status and remove from analysis (13K unique_ids)\n",
    "unique_ids_for_removal = mo_df[mo_df['status_delta_previous_period'].isin([-3, -2, -1, 2, 3, 4])]['unique_id'].unique()\n",
    "print('Removed number of unique_ids: ', len(unique_ids_for_removal))\n",
    "mo_df = mo_df[~mo_df['unique_id'].isin(unique_ids_for_removal)]\n",
    "ap_df = ap_df[~ap_df['unique_id'].isin(unique_ids_for_removal)]"
   ]
  },
  {
   "cell_type": "markdown",
   "metadata": {},
   "source": [
    "## 4. is_bad_12m missing values\n",
    "**4.a replace missing values with correctly calculated values**<br>\n",
    "Results: Fixed 4K values. See helper_functions.py for details<br>\n"
   ]
  },
  {
   "cell_type": "code",
   "execution_count": 166,
   "metadata": {},
   "outputs": [
    {
     "name": "stdout",
     "output_type": "stream",
     "text": [
      "Number of unique_id with missing is_bad_12m: 3764\n"
     ]
    }
   ],
   "source": [
    "# Supress warnings for this cell, to get rid of .iloc warnings\n",
    "warnings.filterwarnings(\"ignore\")\n",
    "\n",
    "\n",
    "# Get list of users where is_bad_12m is missing\n",
    "unique_id_missing_is_bad_12m = list(ap_df[ap_df['is_bad_12m'].isnull()].unique_id)\n",
    "print(f'Number of unique_id with missing is_bad_12m: {len(unique_id_missing_is_bad_12m)}')\n",
    "\n",
    "# Checking a few examples, I cannot see a reason why is_bad_12m is missing. I was suspecting that not enough time passed, but this is not the case\n",
    "mo_df.query(f'unique_id=={unique_id_missing_is_bad_12m[0]}')\n",
    "            \n",
    "# See helper_functions.py for details\n",
    "ap_df = add_xmonth_default_flag(ap_df, mo_df, 12, 3)\n",
    "\n",
    "# Confirm that new column is_bad_12m_new matches is_bad_12m where available to confirm my method is correct\n",
    "pd.crosstab(ap_df['is_bad_12m'].fillna(999), ap_df['is_bad_12m_new'].fillna(999))\n",
    "\n",
    "# Replace is_bad_12m with is_bad_12m_new\n",
    "ap_df['is_bad_12m'] = ap_df['is_bad_12m_new']\n",
    "ap_df = ap_df.drop(columns=['is_bad_12m_new'])"
   ]
  },
  {
   "cell_type": "markdown",
   "metadata": {},
   "source": [
    "## 5. Dates: ##\n",
    "**5.a Cast to datetime** <br>\n",
    "**5.b Confirm data size over time (development, monitor, post-deployment)**<br>"
   ]
  },
  {
   "cell_type": "code",
   "execution_count": 167,
   "metadata": {},
   "outputs": [
    {
     "data": {
      "text/plain": [
       "Text(0.5, 0, '')"
      ]
     },
     "execution_count": 167,
     "metadata": {},
     "output_type": "execute_result"
    },
    {
     "data": {
      "image/png": "[encoded data removed]",
      "text/plain": [
       "<Figure size 864x144 with 1 Axes>"
      ]
     },
     "metadata": {},
     "output_type": "display_data"
    }
   ],
   "source": [
    "mo_df[\"date\"] = pd.to_datetime(mo_df[\"date\"])\n",
    "ap_df[\"origination_date\"] = pd.to_datetime(ap_df[\"origination_date\"])\n",
    "\n",
    "plt.figure(figsize=(12,2))\n",
    "\n",
    "mo_df.groupby(\"date\").size().plot()\n",
    "ap_df.groupby(\"origination_date\").size().plot()\n",
    "\n",
    "# add verticle lines on 2019-08-01 and 2020-01-01\n",
    "plt.axvline(x=pd.to_datetime(\"2019-08-01\"), color=\"red\", linestyle=\"--\")\n",
    "plt.axvline(x=pd.to_datetime(\"2020-01-01\"), color=\"red\", linestyle=\"--\")\n",
    "# add text at 2018-07 saying 'development sample'\n",
    "plt.text(pd.to_datetime(\"2018-07-01\"), 400, \"development\\nsample\")\n",
    "plt.text(pd.to_datetime(\"2019-09-01\"), 400, \"monitoring\\nsample\")\n",
    "plt.text(pd.to_datetime(\"2020-02-01\"), 400, \"post deployment\\nsample\")\n",
    "\n",
    "plt.legend([\"payback events\", \"origination date\"])\n",
    "plt.xlabel(\"\")"
   ]
  },
  {
   "cell_type": "markdown",
   "metadata": {
    "vscode": {
     "languageId": "raw"
    }
   },
   "source": [
    "## 6. Unique_id ##"
   ]
  },
  {
   "cell_type": "markdown",
   "metadata": {},
   "source": [
    "**6.a Remove duplicates in application.csv**<br>\n",
    "Results: 5K duplicates in application.csv -> drop\n"
   ]
  },
  {
   "cell_type": "code",
   "execution_count": 168,
   "metadata": {},
   "outputs": [
    {
     "name": "stdout",
     "output_type": "stream",
     "text": [
      "Duplicates in monthly_outcome.csv: 0\n",
      "Duplicates in application.csv: 4565\n",
      "Duplicates in application.csv after drop: 0\n"
     ]
    }
   ],
   "source": [
    "# 1. monthly_outcome.csv: Unique identifier should by unique_id and date -> No duplicates\n",
    "print(f'Duplicates in monthly_outcome.csv:', mo_df.duplicated(subset=['unique_id','date']).sum())\n",
    "\n",
    "# 2. application.csv: Unique identifier should by unique_id -> 5K duplicates -> Dropped\n",
    "print(f'Duplicates in application.csv:',ap_df.duplicated(subset=['unique_id']).sum())\n",
    "\n",
    "# Have a look at the duplicated unique_ids -> They appear to be simple copies of the same data\n",
    "ap_df[ap_df.duplicated(subset=['unique_id'],keep=False)].sort_values('unique_id')\n",
    "# Drop duplicates and rerun the check to confirm they are all gone\n",
    "ap_df = ap_df.drop_duplicates()\n",
    "print(f'Duplicates in application.csv after drop:',ap_df.duplicated(subset=['unique_id']).sum())"
   ]
  },
  {
   "cell_type": "markdown",
   "metadata": {
    "vscode": {
     "languageId": "ruby"
    }
   },
   "source": [
    "**6.b Confirm that unique_ids between 2 datasets match 1 to 1**<br>\n",
    "Results: Unique_ids in the 2 datasets are identical<br>"
   ]
  },
  {
   "cell_type": "code",
   "execution_count": 169,
   "metadata": {},
   "outputs": [
    {
     "name": "stdout",
     "output_type": "stream",
     "text": [
      "Number of unique_id in mo_df: 57709\n",
      "Number of unique_id in ap_df: 57709\n",
      "Number of unique_id in both: 57709\n"
     ]
    }
   ],
   "source": [
    "#  Number unique_id in monthly_outcome.csv and application.csv, and do they match?\n",
    "# Yes, there is the same 70K unique_id in both files\n",
    "print(\"Number of unique_id in mo_df:\", mo_df['unique_id'].nunique())\n",
    "print(\"Number of unique_id in ap_df:\", ap_df['unique_id'].nunique())\n",
    "print(\"Number of unique_id in both:\", len(set(mo_df['unique_id']).intersection(set(ap_df['unique_id']))))"
   ]
  },
  {
   "cell_type": "markdown",
   "metadata": {},
   "source": [
    "## 7. Numerical features ##\n",
    "**7.a Plot distributions (after replacing implausible values)**"
   ]
  },
  {
   "cell_type": "code",
   "execution_count": 170,
   "metadata": {},
   "outputs": [
    {
     "name": "stdout",
     "output_type": "stream",
     "text": [
      "age_oldest_account\n",
      "-999997.0      2\n",
      " 6.0          77\n",
      " 7.0          84\n",
      " 8.0          93\n",
      " 9.0         108\n",
      "            ... \n",
      " 751.0         1\n",
      " 754.0         1\n",
      " 755.0         1\n",
      " 756.0         1\n",
      " 757.0         2\n",
      "Length: 487, dtype: int64\n",
      "total_value_of_mortgage\n",
      "-999997.0     40379\n",
      " 0.0           1278\n",
      " 72.0             1\n",
      " 211.0            1\n",
      " 273.0            1\n",
      "              ...  \n",
      " 1862527.0        1\n",
      " 2019546.0        1\n",
      " 3175345.0        1\n",
      " 4085395.0        1\n",
      " 4389933.0        1\n",
      "Length: 15496, dtype: int64\n",
      "current_utilisation\n",
      "-999999.0      84\n",
      "-999997.0    2068\n",
      " 0.0         3263\n",
      " 1.0          375\n",
      " 2.0          390\n",
      "             ... \n",
      " 9544.0         1\n",
      " 9576.0         1\n",
      " 9624.0         1\n",
      " 9748.0         1\n",
      " 9940.0         1\n",
      "Length: 1827, dtype: int64\n",
      "months_since_2_payments_missed\n",
      "-999997.0    40683\n",
      " 0.0           542\n",
      " 1.0           327\n",
      " 2.0           283\n",
      " 3.0           277\n",
      "             ...  \n",
      " 68.0          172\n",
      " 69.0          148\n",
      " 70.0          149\n",
      " 71.0          128\n",
      " 72.0           39\n",
      "Length: 74, dtype: int64\n",
      "number_of_credit_searches_last_3_months\n",
      "-999997.0        2\n",
      " 0.0         38386\n",
      " 1.0         13440\n",
      " 2.0          3545\n",
      " 3.0          1243\n",
      " 4.0           526\n",
      " 5.0           254\n",
      " 6.0           133\n",
      " 7.0            71\n",
      " 8.0            52\n",
      " 9.0            22\n",
      " 10.0           13\n",
      " 11.0            7\n",
      " 12.0            7\n",
      " 13.0            5\n",
      " 14.0            1\n",
      " 19.0            1\n",
      " 24.0            1\n",
      "dtype: int64\n",
      "11\n"
     ]
    },
    {
     "data": {
      "image/png": "[encoded data removed]",
      "text/plain": [
       "<Figure size 1152x864 with 11 Axes>"
      ]
     },
     "metadata": {},
     "output_type": "display_data"
    }
   ],
   "source": [
    "columns_to_replace_low_values = [\n",
    "    'age_oldest_account', \n",
    "    'total_value_of_mortgage', \n",
    "    'current_utilisation', \n",
    "    'months_since_2_payments_missed', \n",
    "    'number_of_credit_searches_last_3_months'\n",
    "]\n",
    "\n",
    "# Loop through each column and print the groupby and size\n",
    "for column in columns_to_replace_low_values:\n",
    "    print(ap_df.groupby(column).size().sort_index())\n",
    "\n",
    "# Replace low values with NaN\n",
    "ap_df[columns_to_replace_low_values] = ap_df[columns_to_replace_low_values].replace({-999997.0: np.nan, -999999:np.nan})\n",
    "\n",
    "\n",
    "# Take all numerical columns (except for unique_id) from ap_df and plot they distributions in a plt.Subplot\n",
    "plt.figure(figsize=(16, 12))\n",
    "features = ap_df.columns\n",
    "# remove unique_id and origination_date\n",
    "features = [x for x in features if x not in ['unique_id', 'origination_date']]\n",
    "print(len(features))\n",
    "\n",
    "# plot features in a subplot\n",
    "# Distribution Looks good for all features\n",
    "\n",
    "for i, feature in enumerate(features):\n",
    "    plt.subplot(3, 4, i+1)\n",
    "    ap_df[feature].hist()\n",
    "    plt.title(feature, fontsize=10)"
   ]
  },
  {
   "cell_type": "code",
   "execution_count": 171,
   "metadata": {},
   "outputs": [],
   "source": [
    "# Write csv _cleaned\n",
    "mo_df.to_csv(\"./data/monthly_outcome_cleaned.csv\", index=False)\n",
    "ap_df.to_csv(\"./data/application_cleaned.csv\", index=False)"
   ]
  }
 ],
 "metadata": {
  "colab": {
   "collapsed_sections": [],
   "name": "Monzo_Take_Home_Test_Decision_Scientist.ipynb",
   "provenance": [],
   "toc_visible": true
  },
  "kernelspec": {
   "display_name": "Python 3",
   "language": "python",
   "name": "python3"
  },
  "language_info": {
   "codemirror_mode": {
    "name": "ipython",
    "version": 3
   },
   "file_extension": ".py",
   "mimetype": "text/x-python",
   "name": "python",
   "nbconvert_exporter": "python",
   "pygments_lexer": "ipython3",
   "version": "3.9.1"
  },
  "toc": {
   "base_numbering": 1,
   "nav_menu": {},
   "number_sections": true,
   "sideBar": true,
   "skip_h1_title": false,
   "title_cell": "Table of Contents",
   "title_sidebar": "Contents",
   "toc_cell": false,
   "toc_position": {},
   "toc_section_display": true,
   "toc_window_display": false
  },
  "vscode": {
   "interpreter": {
    "hash": "4d012fa031ee1fd6c2292b462386f6a2706e04cb8b2cf599194f2d2e43de40ad"
   }
  }
 },
 "nbformat": 4,
 "nbformat_minor": 1
}
